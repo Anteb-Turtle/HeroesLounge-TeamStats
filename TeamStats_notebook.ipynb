{
 "cells": [
  {
   "cell_type": "markdown",
   "metadata": {},
   "source": [
    "# HeroesLounge-TeamStats"
   ]
  },
  {
   "cell_type": "markdown",
   "metadata": {},
   "source": [
    "This notebook gathers a team's data, computes statistics for its players and maps played, and displays them.\\\n",
    "**Instructions**: fill the inputs and execute all cells\\\n",
    "**Github**: https://github.com/Anteb-Turtle/HeroesLounge-TeamStats/"
   ]
  },
  {
   "cell_type": "markdown",
   "metadata": {},
   "source": [
    "## Inputs\n",
    "To get a team's data, enter its name and tag, as well as the seasons for which data must be gathered."
   ]
  },
  {
   "cell_type": "code",
   "execution_count": null,
   "metadata": {},
   "outputs": [],
   "source": [
    "team_name = 'Turtle Team' # enter team complete name\n",
    "team_tag =  'Turtles' # enter team tag\n",
    "seasons = [0] #enter seasons of interest (list of integers or list of strings)"
   ]
  },
  {
   "cell_type": "markdown",
   "metadata": {},
   "source": [
    "## Imports"
   ]
  },
  {
   "cell_type": "code",
   "execution_count": null,
   "metadata": {},
   "outputs": [],
   "source": [
    "%matplotlib inline\n",
    "import teamclasses as tc\n",
    "import matplotlib.pyplot as plt\n",
    "plt.rcParams[\"figure.figsize\"] = (12, 9)"
   ]
  },
  {
   "cell_type": "markdown",
   "metadata": {},
   "source": [
    "## Retreive online data and procces it\n",
    "Create a raw data object and gather data from the heroeslounge.gg website."
   ]
  },
  {
   "cell_type": "code",
   "execution_count": null,
   "metadata": {},
   "outputs": [],
   "source": [
    "## Initialize raw data object\n",
    "team_data = tc.TeamRawData(team_tag, team_name)\n",
    "team_data.set_seasons(seasons)\n",
    "## Import data\n",
    "team_data.gather_online_data()\n",
    "## Process data: convert to dataframes\n",
    "team_display = tc.TeamDisplayData(raw_data = team_data)"
   ]
  },
  {
   "cell_type": "markdown",
   "metadata": {},
   "source": [
    "## Statistics\n",
    "Displays statistics as barplots.\n",
    "- Bar heights give the winrate for each hero.\n",
    "- Heroes are orderer from most played to least played.\n",
    "- The number above the bar corresponds to the number of time the hero was played.\n",
    "- The dashed red line correspond to the average winrate.\n",
    "- Suggested bans are highlighted in red: they correspond to heros with winrate at least 10% above average and number of times played above average."
   ]
  },
  {
   "cell_type": "markdown",
   "metadata": {},
   "source": [
    "### Plot the winrate for the players\n",
    "Set the argument players to an integer to show the first players in the team, ordered by number of matches played.\n",
    "Set the argument players to a list of strings with the players names to display the stats for these players."
   ]
  },
  {
   "cell_type": "code",
   "execution_count": null,
   "metadata": {},
   "outputs": [],
   "source": [
    "team_display.display_player_stats(players = 6)"
   ]
  },
  {
   "cell_type": "markdown",
   "metadata": {},
   "source": [
    "### Plot the winrate for each map"
   ]
  },
  {
   "cell_type": "code",
   "execution_count": null,
   "metadata": {},
   "outputs": [],
   "source": [
    "team_display.display_map_stats()"
   ]
  },
  {
   "cell_type": "markdown",
   "metadata": {},
   "source": [
    "### Plot the bans made by the team for each map"
   ]
  },
  {
   "cell_type": "code",
   "execution_count": null,
   "metadata": {},
   "outputs": [],
   "source": [
    "team_display.display_map_bans()"
   ]
  },
  {
   "cell_type": "markdown",
   "metadata": {},
   "source": [
    "### Scatter plot for heroes"
   ]
  },
  {
   "cell_type": "code",
   "execution_count": null,
   "metadata": {},
   "outputs": [],
   "source": [
    "team_display.display_scatter_heroes(player=None, size=12)"
   ]
  },
  {
   "cell_type": "markdown",
   "metadata": {},
   "source": [
    "### Scatter plot for maps"
   ]
  },
  {
   "cell_type": "code",
   "execution_count": null,
   "metadata": {},
   "outputs": [],
   "source": [
    "team_display.display_scatter_maps(size=12)"
   ]
  },
  {
   "cell_type": "markdown",
   "metadata": {},
   "source": [
    "## Plotly figures"
   ]
  },
  {
   "cell_type": "code",
   "execution_count": null,
   "metadata": {},
   "outputs": [],
   "source": [
    "import pandas as pd\n",
    "import plotly.express as px"
   ]
  },
  {
   "cell_type": "markdown",
   "metadata": {},
   "source": [
    "### By map"
   ]
  },
  {
   "cell_type": "markdown",
   "metadata": {},
   "source": [
    "Color is winrate \\\n",
    "Size is number of occurences"
   ]
  },
  {
   "cell_type": "code",
   "execution_count": null,
   "metadata": {},
   "outputs": [],
   "source": [
    "disp1 = pd.melt(team_display.df_map_wr.reset_index(), id_vars=['index'], var_name='hero', value_name='WR')\n",
    "disp2 = pd.melt(team_display.df_map_played.reset_index(), id_vars=['index'], var_name='hero', value_name='played')\n",
    "disp3 = pd.melt(team_display.df_bans_map.reset_index(), id_vars=['index'], var_name='hero', value_name='banned')\n",
    "disp = pd.merge(pd.merge(disp1,disp2, how='outer'),disp3, how='outer')\n",
    "disp = disp.fillna(0)\n",
    "disp.groupby(by=['index','hero'], as_index=False).sum()\n",
    "disp['occurrence'] = disp['played'] + disp['banned']\n",
    "disp = disp[disp.played != 0]\n",
    "\n",
    "#plotting\n",
    "fig = px.scatter(disp, x='hero', y='index', size='occurrence', color='WR')\n",
    "fig.show()"
   ]
  },
  {
   "cell_type": "markdown",
   "metadata": {},
   "source": [
    "## By Player"
   ]
  },
  {
   "cell_type": "markdown",
   "metadata": {},
   "source": [
    "Color is winrate \\\n",
    "Size is number of occurences"
   ]
  },
  {
   "cell_type": "code",
   "execution_count": null,
   "metadata": {},
   "outputs": [],
   "source": [
    "disp1 = pd.melt(team_display.df_player_wr.reset_index(), id_vars=['index'], var_name='hero', value_name='WR')\n",
    "disp2 = pd.melt(team_display.df_player_played.reset_index(), id_vars=['index'], var_name='hero', value_name='played')\n",
    "disp = pd.merge(disp1,disp2, how='outer')\n",
    "disp = disp.fillna(0)\n",
    "#disp.groupby(by=['index','hero'], as_index=False).sum()\n",
    "#disp = disp[disp.played != 0]\n",
    "\n",
    "#plotting\n",
    "fig = px.scatter(disp, x='hero', y='index', size='played', color='WR')\n",
    "fig.show()"
   ]
  }
 ],
 "metadata": {
  "kernelspec": {
   "display_name": "Python 3",
   "language": "python",
   "name": "python3"
  },
  "language_info": {
   "codemirror_mode": {
    "name": "ipython",
    "version": 3
   },
   "file_extension": ".py",
   "mimetype": "text/x-python",
   "name": "python",
   "nbconvert_exporter": "python",
   "pygments_lexer": "ipython3",
   "version": "3.7.8"
  }
 },
 "nbformat": 4,
 "nbformat_minor": 2
}
